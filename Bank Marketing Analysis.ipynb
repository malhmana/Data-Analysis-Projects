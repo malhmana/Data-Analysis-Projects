{
 "cells": [
  {
   "cell_type": "code",
   "execution_count": 1,
   "id": "2ee525f2-8f9d-4d9e-a8bb-38cff8bd0f86",
   "metadata": {},
   "outputs": [],
   "source": [
    "import numpy as np\n",
    "import pandas as pd\n",
    "import seaborn as sns\n",
    "import matplotlib.pyplot as plt\n",
    "import warnings\n",
    "warnings.filterwarnings('ignore')"
   ]
  },
  {
   "cell_type": "code",
   "execution_count": 2,
   "id": "3bb6f0da-57ae-4f0f-9ef5-5c23ae62f79e",
   "metadata": {},
   "outputs": [],
   "source": [
    "# Reading dataset\n",
    "mkt_data = pd.read_csv(r'C:\\Users\\mannu\\Desktop\\bank.csv')"
   ]
  },
  {
   "cell_type": "code",
   "execution_count": 3,
   "id": "00ee338e-d0de-45ef-a27c-df97dd8dca83",
   "metadata": {},
   "outputs": [
    {
     "data": {
      "text/html": [
       "<div>\n",
       "<style scoped>\n",
       "    .dataframe tbody tr th:only-of-type {\n",
       "        vertical-align: middle;\n",
       "    }\n",
       "\n",
       "    .dataframe tbody tr th {\n",
       "        vertical-align: top;\n",
       "    }\n",
       "\n",
       "    .dataframe thead th {\n",
       "        text-align: right;\n",
       "    }\n",
       "</style>\n",
       "<table border=\"1\" class=\"dataframe\">\n",
       "  <thead>\n",
       "    <tr style=\"text-align: right;\">\n",
       "      <th></th>\n",
       "      <th>age</th>\n",
       "      <th>job</th>\n",
       "      <th>marital</th>\n",
       "      <th>education</th>\n",
       "      <th>default</th>\n",
       "      <th>balance</th>\n",
       "      <th>housing</th>\n",
       "      <th>loan</th>\n",
       "      <th>contact</th>\n",
       "      <th>day</th>\n",
       "      <th>month</th>\n",
       "      <th>duration</th>\n",
       "      <th>campaign</th>\n",
       "      <th>pdays</th>\n",
       "      <th>previous</th>\n",
       "      <th>poutcome</th>\n",
       "      <th>deposit</th>\n",
       "    </tr>\n",
       "  </thead>\n",
       "  <tbody>\n",
       "    <tr>\n",
       "      <th>0</th>\n",
       "      <td>59</td>\n",
       "      <td>admin.</td>\n",
       "      <td>married</td>\n",
       "      <td>secondary</td>\n",
       "      <td>no</td>\n",
       "      <td>2343</td>\n",
       "      <td>yes</td>\n",
       "      <td>no</td>\n",
       "      <td>unknown</td>\n",
       "      <td>5</td>\n",
       "      <td>may</td>\n",
       "      <td>1042</td>\n",
       "      <td>1</td>\n",
       "      <td>-1</td>\n",
       "      <td>0</td>\n",
       "      <td>unknown</td>\n",
       "      <td>yes</td>\n",
       "    </tr>\n",
       "    <tr>\n",
       "      <th>1</th>\n",
       "      <td>56</td>\n",
       "      <td>admin.</td>\n",
       "      <td>married</td>\n",
       "      <td>secondary</td>\n",
       "      <td>no</td>\n",
       "      <td>45</td>\n",
       "      <td>no</td>\n",
       "      <td>no</td>\n",
       "      <td>unknown</td>\n",
       "      <td>5</td>\n",
       "      <td>may</td>\n",
       "      <td>1467</td>\n",
       "      <td>1</td>\n",
       "      <td>-1</td>\n",
       "      <td>0</td>\n",
       "      <td>unknown</td>\n",
       "      <td>yes</td>\n",
       "    </tr>\n",
       "    <tr>\n",
       "      <th>2</th>\n",
       "      <td>41</td>\n",
       "      <td>technician</td>\n",
       "      <td>married</td>\n",
       "      <td>secondary</td>\n",
       "      <td>no</td>\n",
       "      <td>1270</td>\n",
       "      <td>yes</td>\n",
       "      <td>no</td>\n",
       "      <td>unknown</td>\n",
       "      <td>5</td>\n",
       "      <td>may</td>\n",
       "      <td>1389</td>\n",
       "      <td>1</td>\n",
       "      <td>-1</td>\n",
       "      <td>0</td>\n",
       "      <td>unknown</td>\n",
       "      <td>yes</td>\n",
       "    </tr>\n",
       "    <tr>\n",
       "      <th>3</th>\n",
       "      <td>55</td>\n",
       "      <td>services</td>\n",
       "      <td>married</td>\n",
       "      <td>secondary</td>\n",
       "      <td>no</td>\n",
       "      <td>2476</td>\n",
       "      <td>yes</td>\n",
       "      <td>no</td>\n",
       "      <td>unknown</td>\n",
       "      <td>5</td>\n",
       "      <td>may</td>\n",
       "      <td>579</td>\n",
       "      <td>1</td>\n",
       "      <td>-1</td>\n",
       "      <td>0</td>\n",
       "      <td>unknown</td>\n",
       "      <td>yes</td>\n",
       "    </tr>\n",
       "    <tr>\n",
       "      <th>4</th>\n",
       "      <td>54</td>\n",
       "      <td>admin.</td>\n",
       "      <td>married</td>\n",
       "      <td>tertiary</td>\n",
       "      <td>no</td>\n",
       "      <td>184</td>\n",
       "      <td>no</td>\n",
       "      <td>no</td>\n",
       "      <td>unknown</td>\n",
       "      <td>5</td>\n",
       "      <td>may</td>\n",
       "      <td>673</td>\n",
       "      <td>2</td>\n",
       "      <td>-1</td>\n",
       "      <td>0</td>\n",
       "      <td>unknown</td>\n",
       "      <td>yes</td>\n",
       "    </tr>\n",
       "  </tbody>\n",
       "</table>\n",
       "</div>"
      ],
      "text/plain": [
       "   age         job  marital  education default  balance housing loan  contact  \\\n",
       "0   59      admin.  married  secondary      no     2343     yes   no  unknown   \n",
       "1   56      admin.  married  secondary      no       45      no   no  unknown   \n",
       "2   41  technician  married  secondary      no     1270     yes   no  unknown   \n",
       "3   55    services  married  secondary      no     2476     yes   no  unknown   \n",
       "4   54      admin.  married   tertiary      no      184      no   no  unknown   \n",
       "\n",
       "   day month  duration  campaign  pdays  previous poutcome deposit  \n",
       "0    5   may      1042         1     -1         0  unknown     yes  \n",
       "1    5   may      1467         1     -1         0  unknown     yes  \n",
       "2    5   may      1389         1     -1         0  unknown     yes  \n",
       "3    5   may       579         1     -1         0  unknown     yes  \n",
       "4    5   may       673         2     -1         0  unknown     yes  "
      ]
     },
     "execution_count": 3,
     "metadata": {},
     "output_type": "execute_result"
    }
   ],
   "source": [
    "# First view\n",
    "mkt_data.head()"
   ]
  },
  {
   "cell_type": "code",
   "execution_count": 4,
   "id": "075b7e2f-8bd2-46fd-a1df-ba1c077e9d69",
   "metadata": {},
   "outputs": [
    {
     "data": {
      "text/plain": [
       "0"
      ]
     },
     "execution_count": 4,
     "metadata": {},
     "output_type": "execute_result"
    }
   ],
   "source": [
    "# Checking for null values\n",
    "mkt_data.isnull().sum().sum()"
   ]
  },
  {
   "cell_type": "code",
   "execution_count": 5,
   "id": "bd387af9-d987-4e50-b7f3-ed5e20efec17",
   "metadata": {},
   "outputs": [
    {
     "name": "stdout",
     "output_type": "stream",
     "text": [
      " There are 7 Quantitative columns, namely: ['age', 'balance', 'day', 'duration', 'campaign', 'pdays', 'previous']\n",
      "There are 10 Qualitative columns, namely: ['job', 'marital', 'education', 'default', 'housing', 'loan', 'contact', 'month', 'poutcome', 'deposit']\n"
     ]
    }
   ],
   "source": [
    "# finding qualitative and quantitative columns\n",
    "quant_columns = []\n",
    "qual_columns = []\n",
    "for column in mkt_data.columns:\n",
    "    if mkt_data[column].dtype == 'int64':\n",
    "        quant_columns.append(column)\n",
    "    else:\n",
    "        qual_columns.append(column)\n",
    "print(f' There are {len(quant_columns)} Quantitative columns, namely: {quant_columns}')\n",
    "print(f'There are {len(qual_columns)} Qualitative columns, namely: {qual_columns}')"
   ]
  },
  {
   "cell_type": "code",
   "execution_count": 6,
   "id": "42cce9a3-ca5c-4b1f-80e4-a5e288d408e9",
   "metadata": {},
   "outputs": [
    {
     "data": {
      "text/html": [
       "<div>\n",
       "<style scoped>\n",
       "    .dataframe tbody tr th:only-of-type {\n",
       "        vertical-align: middle;\n",
       "    }\n",
       "\n",
       "    .dataframe tbody tr th {\n",
       "        vertical-align: top;\n",
       "    }\n",
       "\n",
       "    .dataframe thead th {\n",
       "        text-align: right;\n",
       "    }\n",
       "</style>\n",
       "<table border=\"1\" class=\"dataframe\">\n",
       "  <thead>\n",
       "    <tr style=\"text-align: right;\">\n",
       "      <th></th>\n",
       "      <th>age</th>\n",
       "      <th>balance</th>\n",
       "      <th>day</th>\n",
       "      <th>duration</th>\n",
       "      <th>campaign</th>\n",
       "      <th>pdays</th>\n",
       "      <th>previous</th>\n",
       "    </tr>\n",
       "  </thead>\n",
       "  <tbody>\n",
       "    <tr>\n",
       "      <th>count</th>\n",
       "      <td>11162.000000</td>\n",
       "      <td>11162.000000</td>\n",
       "      <td>11162.000000</td>\n",
       "      <td>11162.000000</td>\n",
       "      <td>11162.000000</td>\n",
       "      <td>11162.000000</td>\n",
       "      <td>11162.000000</td>\n",
       "    </tr>\n",
       "    <tr>\n",
       "      <th>mean</th>\n",
       "      <td>41.231948</td>\n",
       "      <td>1528.538524</td>\n",
       "      <td>15.658036</td>\n",
       "      <td>371.993818</td>\n",
       "      <td>2.508421</td>\n",
       "      <td>51.330407</td>\n",
       "      <td>0.832557</td>\n",
       "    </tr>\n",
       "    <tr>\n",
       "      <th>std</th>\n",
       "      <td>11.913369</td>\n",
       "      <td>3225.413326</td>\n",
       "      <td>8.420740</td>\n",
       "      <td>347.128386</td>\n",
       "      <td>2.722077</td>\n",
       "      <td>108.758282</td>\n",
       "      <td>2.292007</td>\n",
       "    </tr>\n",
       "    <tr>\n",
       "      <th>min</th>\n",
       "      <td>18.000000</td>\n",
       "      <td>-6847.000000</td>\n",
       "      <td>1.000000</td>\n",
       "      <td>2.000000</td>\n",
       "      <td>1.000000</td>\n",
       "      <td>-1.000000</td>\n",
       "      <td>0.000000</td>\n",
       "    </tr>\n",
       "    <tr>\n",
       "      <th>25%</th>\n",
       "      <td>32.000000</td>\n",
       "      <td>122.000000</td>\n",
       "      <td>8.000000</td>\n",
       "      <td>138.000000</td>\n",
       "      <td>1.000000</td>\n",
       "      <td>-1.000000</td>\n",
       "      <td>0.000000</td>\n",
       "    </tr>\n",
       "    <tr>\n",
       "      <th>50%</th>\n",
       "      <td>39.000000</td>\n",
       "      <td>550.000000</td>\n",
       "      <td>15.000000</td>\n",
       "      <td>255.000000</td>\n",
       "      <td>2.000000</td>\n",
       "      <td>-1.000000</td>\n",
       "      <td>0.000000</td>\n",
       "    </tr>\n",
       "    <tr>\n",
       "      <th>75%</th>\n",
       "      <td>49.000000</td>\n",
       "      <td>1708.000000</td>\n",
       "      <td>22.000000</td>\n",
       "      <td>496.000000</td>\n",
       "      <td>3.000000</td>\n",
       "      <td>20.750000</td>\n",
       "      <td>1.000000</td>\n",
       "    </tr>\n",
       "    <tr>\n",
       "      <th>max</th>\n",
       "      <td>95.000000</td>\n",
       "      <td>81204.000000</td>\n",
       "      <td>31.000000</td>\n",
       "      <td>3881.000000</td>\n",
       "      <td>63.000000</td>\n",
       "      <td>854.000000</td>\n",
       "      <td>58.000000</td>\n",
       "    </tr>\n",
       "  </tbody>\n",
       "</table>\n",
       "</div>"
      ],
      "text/plain": [
       "                age       balance           day      duration      campaign  \\\n",
       "count  11162.000000  11162.000000  11162.000000  11162.000000  11162.000000   \n",
       "mean      41.231948   1528.538524     15.658036    371.993818      2.508421   \n",
       "std       11.913369   3225.413326      8.420740    347.128386      2.722077   \n",
       "min       18.000000  -6847.000000      1.000000      2.000000      1.000000   \n",
       "25%       32.000000    122.000000      8.000000    138.000000      1.000000   \n",
       "50%       39.000000    550.000000     15.000000    255.000000      2.000000   \n",
       "75%       49.000000   1708.000000     22.000000    496.000000      3.000000   \n",
       "max       95.000000  81204.000000     31.000000   3881.000000     63.000000   \n",
       "\n",
       "              pdays      previous  \n",
       "count  11162.000000  11162.000000  \n",
       "mean      51.330407      0.832557  \n",
       "std      108.758282      2.292007  \n",
       "min       -1.000000      0.000000  \n",
       "25%       -1.000000      0.000000  \n",
       "50%       -1.000000      0.000000  \n",
       "75%       20.750000      1.000000  \n",
       "max      854.000000     58.000000  "
      ]
     },
     "execution_count": 6,
     "metadata": {},
     "output_type": "execute_result"
    }
   ],
   "source": [
    "# A high level review of quantitative columns:\n",
    "mkt_data.describe()"
   ]
  },
  {
   "cell_type": "markdown",
   "id": "d8be8c49-79a3-46e8-91fd-b1f7aba2c849",
   "metadata": {},
   "source": [
    "<br>\n",
    "\n",
    "- #### The mean age is 41 with a standard deviation of 11~12 \n",
    "\n",
    "<br>"
   ]
  },
  {
   "cell_type": "code",
   "execution_count": 7,
   "id": "d8e7152f-a95b-457d-a25a-4060fb941aad",
   "metadata": {},
   "outputs": [
    {
     "name": "stdout",
     "output_type": "stream",
     "text": [
      "JOB:['admin.' 'technician' 'services' 'management' 'retired' 'blue-collar'\n",
      " 'unemployed' 'entrepreneur' 'housemaid' 'unknown' 'self-employed'\n",
      " 'student']\n",
      "MARITAL:['married' 'single' 'divorced']\n",
      "EDUCATION:['secondary' 'tertiary' 'primary' 'unknown']\n",
      "DEFAULT:['no' 'yes']\n",
      "HOUSING:['yes' 'no']\n",
      "LOAN:['no' 'yes']\n",
      "CONTACT:['unknown' 'cellular' 'telephone']\n",
      "MONTH:['may' 'jun' 'jul' 'aug' 'oct' 'nov' 'dec' 'jan' 'feb' 'mar' 'apr' 'sep']\n",
      "POUTCOME:['unknown' 'other' 'failure' 'success']\n",
      "DEPOSIT:['yes' 'no']\n"
     ]
    }
   ],
   "source": [
    "# High level view of unique values in qualitative columns:\n",
    "for names in qual_columns:\n",
    "    print(f'{names.upper()}:{mkt_data[names].unique()}')"
   ]
  },
  {
   "cell_type": "code",
   "execution_count": 8,
   "id": "46c32357-94f9-4cfe-b361-eed756f382f9",
   "metadata": {},
   "outputs": [
    {
     "name": "stdout",
     "output_type": "stream",
     "text": [
      "default\n",
      "housing\n",
      "loan\n",
      "deposit\n"
     ]
    }
   ],
   "source": [
    "# Binary Columns:\n",
    "for names in qual_columns:\n",
    "    if mkt_data[names].nunique() == 2:\n",
    "        print(names)"
   ]
  },
  {
   "cell_type": "markdown",
   "id": "dad016ec-6c57-470a-94e8-5a28ba4e1143",
   "metadata": {},
   "source": [
    "#### To get a feel of data we use distribution plots for quantitative values"
   ]
  },
  {
   "cell_type": "code",
   "execution_count": 9,
   "id": "2d6f465c-54af-410d-bc4b-2ec8cc9d1a1a",
   "metadata": {},
   "outputs": [
    {
     "data": {
      "image/png": "[encoded data removed]",
      "text/plain": [
       "<Figure size 432x288 with 1 Axes>"
      ]
     },
     "metadata": {
      "needs_background": "light"
     },
     "output_type": "display_data"
    },
    {
     "data": {
      "image/png": "[encoded data removed]",
      "text/plain": [
       "<Figure size 432x288 with 1 Axes>"
      ]
     },
     "metadata": {
      "needs_background": "light"
     },
     "output_type": "display_data"
    },
    {
     "data": {
      "image/png": "[encoded data removed]",
      "text/plain": [
       "<Figure size 432x288 with 1 Axes>"
      ]
     },
     "metadata": {
      "needs_background": "light"
     },
     "output_type": "display_data"
    },
    {
     "data": {
      "image/png": "[encoded data removed]",
      "text/plain": [
       "<Figure size 432x288 with 1 Axes>"
      ]
     },
     "metadata": {
      "needs_background": "light"
     },
     "output_type": "display_data"
    },
    {
     "data": {
      "image/png": "[encoded data removed]",
      "text/plain": [
       "<Figure size 432x288 with 1 Axes>"
      ]
     },
     "metadata": {
      "needs_background": "light"
     },
     "output_type": "display_data"
    },
    {
     "data": {
      "image/png": "[encoded data removed]",
      "text/plain": [
       "<Figure size 432x288 with 1 Axes>"
      ]
     },
     "metadata": {
      "needs_background": "light"
     },
     "output_type": "display_data"
    },
    {
     "data": {
      "image/png": "[encoded data removed]",
      "text/plain": [
       "<Figure size 432x288 with 1 Axes>"
      ]
     },
     "metadata": {
      "needs_background": "light"
     },
     "output_type": "display_data"
    }
   ],
   "source": [
    "for column in quant_columns:\n",
    "    sns.distplot(mkt_data[column])\n",
    "    plt.title(f'Distrubution of {column}')\n",
    "    plt.show()"
   ]
  },
  {
   "cell_type": "code",
   "execution_count": 10,
   "id": "b709fdae-d1c7-46be-affc-2ed67706ce93",
   "metadata": {},
   "outputs": [
    {
     "data": {
      "text/plain": [
       "9.595054649704354"
      ]
     },
     "execution_count": 10,
     "metadata": {},
     "output_type": "execute_result"
    }
   ],
   "source": [
    "# Finding overall conversion rate for marketing campaign\n",
    "len((mkt_data[mkt_data['poutcome'] == 'success']))/len(mkt_data) * 100"
   ]
  },
  {
   "cell_type": "markdown",
   "id": "88ba65ad-5789-4633-baad-1506d96a48a7",
   "metadata": {},
   "source": [
    "- #### Over-all conversion rate is low.\n",
    "    - However this is mis-leading, since there are unknown values in poutcome column, which means that these audiences' decisions are not known and that may be due to many reasons\n",
    "\n",
    "- #### To fix this, I will create a sub-database of where values in poutcome are either success or failure."
   ]
  },
  {
   "cell_type": "code",
   "execution_count": 11,
   "id": "6b5a86d9-72ee-4946-b92a-ca78b24e9d3c",
   "metadata": {},
   "outputs": [],
   "source": [
    "known_mkt_data = mkt_data[mkt_data['poutcome'].isin(['success','failure'])]"
   ]
  },
  {
   "cell_type": "code",
   "execution_count": 12,
   "id": "f4a1c4bb-4efb-4eed-b566-a1f5d0fd6003",
   "metadata": {},
   "outputs": [
    {
     "data": {
      "image/png": "[encoded data removed]",
      "text/plain": [
       "<Figure size 432x288 with 1 Axes>"
      ]
     },
     "metadata": {},
     "output_type": "display_data"
    }
   ],
   "source": [
    "# recalculating overall conversion rate of campaign:\n",
    "y = [round(len(known_mkt_data[known_mkt_data['poutcome'] == 'success'])/len(known_mkt_data) * 100,2), \n",
    "     round(len(known_mkt_data[known_mkt_data['poutcome'] == 'failure'])/len(known_mkt_data) * 100,2)]\n",
    "labels_known = [f'success : {round(y[0],2)}%',f'failure : {round(y[1],2)}%']\n",
    "plt.pie(y,labels = labels_known)\n",
    "plt.show()"
   ]
  },
  {
   "cell_type": "markdown",
   "id": "0af03d84-e0a1-49de-b119-dee943435e80",
   "metadata": {},
   "source": [
    "- ## Methodology:\n",
    "    - > #### I will Analyze the data on known marketing dataset i,e dataset with only success and failure values which will allow me to find actionable insights as to what are the markers of audiences which are contributing to a higher conversion rate."
   ]
  },
  {
   "cell_type": "code",
   "execution_count": 13,
   "id": "a4e5d734-d992-459f-8d19-15de6e0bd6e0",
   "metadata": {},
   "outputs": [],
   "source": [
    "# Splitting data on the bases of poutcomes for simplicity:\n",
    "success_data = known_mkt_data[known_mkt_data['poutcome'] == 'success']\n",
    "failure_data = known_mkt_data[known_mkt_data['poutcome'] == 'failure']\n",
    "                              "
   ]
  },
  {
   "cell_type": "markdown",
   "id": "ff721b66-a9f6-4923-a1a1-ecc5474aa6fb",
   "metadata": {},
   "source": [
    "- #### Calculating conversion rates for unique values in qualitative columns to find trends."
   ]
  },
  {
   "cell_type": "markdown",
   "id": "28146608-c009-4d97-99e0-36cc1b306ac2",
   "metadata": {},
   "source": [
    "### 1. Job"
   ]
  },
  {
   "cell_type": "code",
   "execution_count": 14,
   "id": "86630c84-839a-4b08-9148-51b20886a06f",
   "metadata": {},
   "outputs": [],
   "source": [
    "# Finding out Conversion Rates grouped by job types.\n",
    "job_conv = (success_data.groupby('job').count()['poutcome']\n",
    "            /\n",
    "            known_mkt_data.groupby('job').count()['poutcome'] * 100).sort_values(ascending = False).reset_index()"
   ]
  },
  {
   "cell_type": "code",
   "execution_count": 15,
   "id": "3c218817-2b9d-450f-a002-1302a48bb874",
   "metadata": {},
   "outputs": [
    {
     "data": {
      "text/html": [
       "<div>\n",
       "<style scoped>\n",
       "    .dataframe tbody tr th:only-of-type {\n",
       "        vertical-align: middle;\n",
       "    }\n",
       "\n",
       "    .dataframe tbody tr th {\n",
       "        vertical-align: top;\n",
       "    }\n",
       "\n",
       "    .dataframe thead th {\n",
       "        text-align: right;\n",
       "    }\n",
       "</style>\n",
       "<table border=\"1\" class=\"dataframe\">\n",
       "  <thead>\n",
       "    <tr style=\"text-align: right;\">\n",
       "      <th></th>\n",
       "      <th>job</th>\n",
       "      <th>poutcome</th>\n",
       "    </tr>\n",
       "  </thead>\n",
       "  <tbody>\n",
       "    <tr>\n",
       "      <th>0</th>\n",
       "      <td>retired</td>\n",
       "      <td>64.903846</td>\n",
       "    </tr>\n",
       "    <tr>\n",
       "      <th>1</th>\n",
       "      <td>student</td>\n",
       "      <td>60.909091</td>\n",
       "    </tr>\n",
       "    <tr>\n",
       "      <th>2</th>\n",
       "      <td>unemployed</td>\n",
       "      <td>59.770115</td>\n",
       "    </tr>\n",
       "    <tr>\n",
       "      <th>3</th>\n",
       "      <td>unknown</td>\n",
       "      <td>55.555556</td>\n",
       "    </tr>\n",
       "    <tr>\n",
       "      <th>4</th>\n",
       "      <td>housemaid</td>\n",
       "      <td>51.162791</td>\n",
       "    </tr>\n",
       "    <tr>\n",
       "      <th>5</th>\n",
       "      <td>self-employed</td>\n",
       "      <td>50.000000</td>\n",
       "    </tr>\n",
       "    <tr>\n",
       "      <th>6</th>\n",
       "      <td>management</td>\n",
       "      <td>49.914530</td>\n",
       "    </tr>\n",
       "    <tr>\n",
       "      <th>7</th>\n",
       "      <td>technician</td>\n",
       "      <td>43.013699</td>\n",
       "    </tr>\n",
       "    <tr>\n",
       "      <th>8</th>\n",
       "      <td>admin.</td>\n",
       "      <td>42.006270</td>\n",
       "    </tr>\n",
       "    <tr>\n",
       "      <th>9</th>\n",
       "      <td>services</td>\n",
       "      <td>38.509317</td>\n",
       "    </tr>\n",
       "    <tr>\n",
       "      <th>10</th>\n",
       "      <td>blue-collar</td>\n",
       "      <td>32.142857</td>\n",
       "    </tr>\n",
       "    <tr>\n",
       "      <th>11</th>\n",
       "      <td>entrepreneur</td>\n",
       "      <td>25.531915</td>\n",
       "    </tr>\n",
       "  </tbody>\n",
       "</table>\n",
       "</div>"
      ],
      "text/plain": [
       "              job   poutcome\n",
       "0         retired  64.903846\n",
       "1         student  60.909091\n",
       "2      unemployed  59.770115\n",
       "3         unknown  55.555556\n",
       "4       housemaid  51.162791\n",
       "5   self-employed  50.000000\n",
       "6      management  49.914530\n",
       "7      technician  43.013699\n",
       "8          admin.  42.006270\n",
       "9        services  38.509317\n",
       "10    blue-collar  32.142857\n",
       "11   entrepreneur  25.531915"
      ]
     },
     "execution_count": 15,
     "metadata": {},
     "output_type": "execute_result"
    }
   ],
   "source": [
    "job_conv"
   ]
  },
  {
   "cell_type": "code",
   "execution_count": 16,
   "id": "3ed4a956-2ae2-48b3-8db1-f9f117f673dc",
   "metadata": {},
   "outputs": [
    {
     "data": {
      "image/png": "[encoded data removed]",
      "text/plain": [
       "<Figure size 432x288 with 1 Axes>"
      ]
     },
     "metadata": {
      "needs_background": "light"
     },
     "output_type": "display_data"
    }
   ],
   "source": [
    "plt.barh(job_conv['job'],width=job_conv['poutcome'], color = 'g')\n",
    "plt.ylabel('Job Types')\n",
    "plt.xlabel('Conversion Rates')\n",
    "plt.title('Conversion Rates per job type')\n",
    "plt.show()"
   ]
  },
  {
   "cell_type": "markdown",
   "id": "9974d623-411f-43f7-8656-21a2afd82e5c",
   "metadata": {},
   "source": [
    "- #### Job type has a high correlation and is following a trend, to capture this trend I will create a dataframe of best performing jobs which have a conversation rate that is higher than overall conversion rate."
   ]
  },
  {
   "cell_type": "code",
   "execution_count": 17,
   "id": "4571116f-3851-4b8c-a8ad-07965a1036f5",
   "metadata": {},
   "outputs": [],
   "source": [
    "#Filtering out job types that have a higher than normal conversion rate.\n",
    "job_targets = job_conv[job_conv['poutcome'] >= \n",
    "                       (len(known_mkt_data[known_mkt_data['poutcome'] == 'success'])/len(known_mkt_data) * 100)]"
   ]
  },
  {
   "cell_type": "code",
   "execution_count": 18,
   "id": "bc7e6338-fc4b-48b7-86b4-a7bc95f52269",
   "metadata": {},
   "outputs": [
    {
     "data": {
      "text/html": [
       "<div>\n",
       "<style scoped>\n",
       "    .dataframe tbody tr th:only-of-type {\n",
       "        vertical-align: middle;\n",
       "    }\n",
       "\n",
       "    .dataframe tbody tr th {\n",
       "        vertical-align: top;\n",
       "    }\n",
       "\n",
       "    .dataframe thead th {\n",
       "        text-align: right;\n",
       "    }\n",
       "</style>\n",
       "<table border=\"1\" class=\"dataframe\">\n",
       "  <thead>\n",
       "    <tr style=\"text-align: right;\">\n",
       "      <th></th>\n",
       "      <th>job</th>\n",
       "      <th>poutcome</th>\n",
       "    </tr>\n",
       "  </thead>\n",
       "  <tbody>\n",
       "    <tr>\n",
       "      <th>0</th>\n",
       "      <td>retired</td>\n",
       "      <td>64.903846</td>\n",
       "    </tr>\n",
       "    <tr>\n",
       "      <th>1</th>\n",
       "      <td>student</td>\n",
       "      <td>60.909091</td>\n",
       "    </tr>\n",
       "    <tr>\n",
       "      <th>2</th>\n",
       "      <td>unemployed</td>\n",
       "      <td>59.770115</td>\n",
       "    </tr>\n",
       "    <tr>\n",
       "      <th>3</th>\n",
       "      <td>unknown</td>\n",
       "      <td>55.555556</td>\n",
       "    </tr>\n",
       "    <tr>\n",
       "      <th>4</th>\n",
       "      <td>housemaid</td>\n",
       "      <td>51.162791</td>\n",
       "    </tr>\n",
       "    <tr>\n",
       "      <th>5</th>\n",
       "      <td>self-employed</td>\n",
       "      <td>50.000000</td>\n",
       "    </tr>\n",
       "    <tr>\n",
       "      <th>6</th>\n",
       "      <td>management</td>\n",
       "      <td>49.914530</td>\n",
       "    </tr>\n",
       "  </tbody>\n",
       "</table>\n",
       "</div>"
      ],
      "text/plain": [
       "             job   poutcome\n",
       "0        retired  64.903846\n",
       "1        student  60.909091\n",
       "2     unemployed  59.770115\n",
       "3        unknown  55.555556\n",
       "4      housemaid  51.162791\n",
       "5  self-employed  50.000000\n",
       "6     management  49.914530"
      ]
     },
     "execution_count": 18,
     "metadata": {},
     "output_type": "execute_result"
    }
   ],
   "source": [
    "job_targets"
   ]
  },
  {
   "cell_type": "markdown",
   "id": "e2668a3a-fd80-47ff-ac2f-6ac7bd545cd2",
   "metadata": {},
   "source": [
    "### 2. Marital Status"
   ]
  },
  {
   "cell_type": "code",
   "execution_count": 19,
   "id": "57ede0ce-4124-4267-a3a1-b72022104e6e",
   "metadata": {},
   "outputs": [],
   "source": [
    "#Calculating Conversion Rates grouped by Marital Status\n",
    "marital_conv = ((success_data.groupby('marital').count()['poutcome']\n",
    "                /\n",
    "                known_mkt_data.groupby('marital').count()['poutcome']) * 100).sort_values(ascending= False).reset_index()"
   ]
  },
  {
   "cell_type": "code",
   "execution_count": 20,
   "id": "fc30e5b5-d106-474d-813b-16198de8b257",
   "metadata": {},
   "outputs": [
    {
     "data": {
      "text/html": [
       "<div>\n",
       "<style scoped>\n",
       "    .dataframe tbody tr th:only-of-type {\n",
       "        vertical-align: middle;\n",
       "    }\n",
       "\n",
       "    .dataframe tbody tr th {\n",
       "        vertical-align: top;\n",
       "    }\n",
       "\n",
       "    .dataframe thead th {\n",
       "        text-align: right;\n",
       "    }\n",
       "</style>\n",
       "<table border=\"1\" class=\"dataframe\">\n",
       "  <thead>\n",
       "    <tr style=\"text-align: right;\">\n",
       "      <th></th>\n",
       "      <th>marital</th>\n",
       "      <th>poutcome</th>\n",
       "    </tr>\n",
       "  </thead>\n",
       "  <tbody>\n",
       "    <tr>\n",
       "      <th>0</th>\n",
       "      <td>divorced</td>\n",
       "      <td>48.165138</td>\n",
       "    </tr>\n",
       "    <tr>\n",
       "      <th>1</th>\n",
       "      <td>single</td>\n",
       "      <td>48.067010</td>\n",
       "    </tr>\n",
       "    <tr>\n",
       "      <th>2</th>\n",
       "      <td>married</td>\n",
       "      <td>45.440613</td>\n",
       "    </tr>\n",
       "  </tbody>\n",
       "</table>\n",
       "</div>"
      ],
      "text/plain": [
       "    marital   poutcome\n",
       "0  divorced  48.165138\n",
       "1    single  48.067010\n",
       "2   married  45.440613"
      ]
     },
     "execution_count": 20,
     "metadata": {},
     "output_type": "execute_result"
    }
   ],
   "source": [
    "marital_conv"
   ]
  },
  {
   "cell_type": "code",
   "execution_count": 21,
   "id": "c066845b-0569-4a84-a9b5-dd8d5daa9379",
   "metadata": {},
   "outputs": [
    {
     "data": {
      "image/png": "[encoded data removed]",
      "text/plain": [
       "<Figure size 432x288 with 1 Axes>"
      ]
     },
     "metadata": {
      "needs_background": "light"
     },
     "output_type": "display_data"
    }
   ],
   "source": [
    "plt.bar(marital_conv['marital'],marital_conv['poutcome'],width = 0.4)\n",
    "plt.xlabel('Marital Status')\n",
    "plt.ylabel('Conversion Rates')\n",
    "plt.title('Conversion rates per Marital Status')\n",
    "plt.show()"
   ]
  },
  {
   "cell_type": "markdown",
   "id": "dcc557b0-cd6e-4b6d-9a5d-8d1119f3ba7d",
   "metadata": {},
   "source": [
    "- #### Marital Status does not indicate any substantial correlation to conversion rates."
   ]
  },
  {
   "cell_type": "markdown",
   "id": "4048995b-ca54-4e90-a3d7-9544e9c171b4",
   "metadata": {},
   "source": [
    "### 3. Education"
   ]
  },
  {
   "cell_type": "code",
   "execution_count": 22,
   "id": "1f480bae-9f05-4abc-9d61-81d7e97a5dce",
   "metadata": {},
   "outputs": [
    {
     "data": {
      "text/html": [
       "<div>\n",
       "<style scoped>\n",
       "    .dataframe tbody tr th:only-of-type {\n",
       "        vertical-align: middle;\n",
       "    }\n",
       "\n",
       "    .dataframe tbody tr th {\n",
       "        vertical-align: top;\n",
       "    }\n",
       "\n",
       "    .dataframe thead th {\n",
       "        text-align: right;\n",
       "    }\n",
       "</style>\n",
       "<table border=\"1\" class=\"dataframe\">\n",
       "  <thead>\n",
       "    <tr style=\"text-align: right;\">\n",
       "      <th></th>\n",
       "      <th>education</th>\n",
       "      <th>poutcome</th>\n",
       "    </tr>\n",
       "  </thead>\n",
       "  <tbody>\n",
       "    <tr>\n",
       "      <th>0</th>\n",
       "      <td>unknown</td>\n",
       "      <td>56.074766</td>\n",
       "    </tr>\n",
       "    <tr>\n",
       "      <th>1</th>\n",
       "      <td>tertiary</td>\n",
       "      <td>51.146789</td>\n",
       "    </tr>\n",
       "    <tr>\n",
       "      <th>2</th>\n",
       "      <td>secondary</td>\n",
       "      <td>43.442623</td>\n",
       "    </tr>\n",
       "    <tr>\n",
       "      <th>3</th>\n",
       "      <td>primary</td>\n",
       "      <td>39.639640</td>\n",
       "    </tr>\n",
       "  </tbody>\n",
       "</table>\n",
       "</div>"
      ],
      "text/plain": [
       "   education   poutcome\n",
       "0    unknown  56.074766\n",
       "1   tertiary  51.146789\n",
       "2  secondary  43.442623\n",
       "3    primary  39.639640"
      ]
     },
     "execution_count": 22,
     "metadata": {},
     "output_type": "execute_result"
    }
   ],
   "source": [
    "# Calculating Conversion Rates grouped by Education Level/Type.\n",
    "edu_conv = ((success_data.groupby('education').count()['poutcome']\n",
    "             /\n",
    "             known_mkt_data.groupby('education').count()['poutcome']) * 100).sort_values(ascending= False).reset_index()\n",
    "edu_conv"
   ]
  },
  {
   "cell_type": "code",
   "execution_count": 23,
   "id": "afe20d97-d299-45e3-a368-51f2a02461d8",
   "metadata": {},
   "outputs": [
    {
     "data": {
      "image/png": "[encoded data removed]",
      "text/plain": [
       "<Figure size 432x288 with 1 Axes>"
      ]
     },
     "metadata": {
      "needs_background": "light"
     },
     "output_type": "display_data"
    }
   ],
   "source": [
    "plt.bar(edu_conv['education'],edu_conv['poutcome'],width = 0.4)\n",
    "plt.xlabel('Education Type')\n",
    "plt.ylabel('Conversion Rates')\n",
    "plt.title('Conversion Rates per Education Type')\n",
    "plt.show()"
   ]
  },
  {
   "cell_type": "markdown",
   "id": "12549046-c7ad-42f0-96aa-020a8859209e",
   "metadata": {},
   "source": [
    "- #### Since Education has unknown values it cannot be relied upon, however we get to know that people with declared primary education are less likely to respond positively to this marketing campaign, i.e have a negative correlation"
   ]
  },
  {
   "cell_type": "markdown",
   "id": "a0cfb69b-1e3f-470d-b93f-ad2db213f0a1",
   "metadata": {},
   "source": [
    "### 4.Default- Has a Credit Default."
   ]
  },
  {
   "cell_type": "code",
   "execution_count": 24,
   "id": "82c865b8-114a-42b4-bcea-7e3e88a3704e",
   "metadata": {},
   "outputs": [
    {
     "data": {
      "text/html": [
       "<div>\n",
       "<style scoped>\n",
       "    .dataframe tbody tr th:only-of-type {\n",
       "        vertical-align: middle;\n",
       "    }\n",
       "\n",
       "    .dataframe tbody tr th {\n",
       "        vertical-align: top;\n",
       "    }\n",
       "\n",
       "    .dataframe thead th {\n",
       "        text-align: right;\n",
       "    }\n",
       "</style>\n",
       "<table border=\"1\" class=\"dataframe\">\n",
       "  <thead>\n",
       "    <tr style=\"text-align: right;\">\n",
       "      <th></th>\n",
       "      <th>default</th>\n",
       "      <th>poutcome</th>\n",
       "    </tr>\n",
       "  </thead>\n",
       "  <tbody>\n",
       "    <tr>\n",
       "      <th>0</th>\n",
       "      <td>no</td>\n",
       "      <td>46.748145</td>\n",
       "    </tr>\n",
       "    <tr>\n",
       "      <th>1</th>\n",
       "      <td>yes</td>\n",
       "      <td>NaN</td>\n",
       "    </tr>\n",
       "  </tbody>\n",
       "</table>\n",
       "</div>"
      ],
      "text/plain": [
       "  default   poutcome\n",
       "0      no  46.748145\n",
       "1     yes        NaN"
      ]
     },
     "execution_count": 24,
     "metadata": {},
     "output_type": "execute_result"
    }
   ],
   "source": [
    "# Calculating Conversion Rates grouped by Default/Credit Default.\n",
    "default_conv = ((success_data.groupby('default').count()['poutcome']\n",
    "                /\n",
    "                known_mkt_data.groupby('default').count()['poutcome']) * 100).sort_values(ascending= False).reset_index()\n",
    "default_conv"
   ]
  },
  {
   "cell_type": "code",
   "execution_count": 25,
   "id": "6b830d97-d796-46f7-b94b-f6b9dfeb31ef",
   "metadata": {},
   "outputs": [
    {
     "data": {
      "text/plain": [
       "default\n",
       "no     2291\n",
       "yes       8\n",
       "Name: poutcome, dtype: int64"
      ]
     },
     "execution_count": 25,
     "metadata": {},
     "output_type": "execute_result"
    }
   ],
   "source": [
    "known_mkt_data.groupby('default').count()['poutcome']"
   ]
  },
  {
   "cell_type": "code",
   "execution_count": 26,
   "id": "de7d6a56-5560-4a2f-96f9-c12511a2d681",
   "metadata": {},
   "outputs": [
    {
     "data": {
      "text/html": [
       "<div>\n",
       "<style scoped>\n",
       "    .dataframe tbody tr th:only-of-type {\n",
       "        vertical-align: middle;\n",
       "    }\n",
       "\n",
       "    .dataframe tbody tr th {\n",
       "        vertical-align: top;\n",
       "    }\n",
       "\n",
       "    .dataframe thead th {\n",
       "        text-align: right;\n",
       "    }\n",
       "</style>\n",
       "<table border=\"1\" class=\"dataframe\">\n",
       "  <thead>\n",
       "    <tr style=\"text-align: right;\">\n",
       "      <th></th>\n",
       "      <th>age</th>\n",
       "      <th>job</th>\n",
       "      <th>marital</th>\n",
       "      <th>education</th>\n",
       "      <th>balance</th>\n",
       "      <th>housing</th>\n",
       "      <th>loan</th>\n",
       "      <th>contact</th>\n",
       "      <th>day</th>\n",
       "      <th>month</th>\n",
       "      <th>duration</th>\n",
       "      <th>campaign</th>\n",
       "      <th>pdays</th>\n",
       "      <th>previous</th>\n",
       "      <th>poutcome</th>\n",
       "      <th>deposit</th>\n",
       "    </tr>\n",
       "    <tr>\n",
       "      <th>default</th>\n",
       "      <th></th>\n",
       "      <th></th>\n",
       "      <th></th>\n",
       "      <th></th>\n",
       "      <th></th>\n",
       "      <th></th>\n",
       "      <th></th>\n",
       "      <th></th>\n",
       "      <th></th>\n",
       "      <th></th>\n",
       "      <th></th>\n",
       "      <th></th>\n",
       "      <th></th>\n",
       "      <th></th>\n",
       "      <th></th>\n",
       "      <th></th>\n",
       "    </tr>\n",
       "  </thead>\n",
       "  <tbody>\n",
       "    <tr>\n",
       "      <th>no</th>\n",
       "      <td>1071</td>\n",
       "      <td>1071</td>\n",
       "      <td>1071</td>\n",
       "      <td>1071</td>\n",
       "      <td>1071</td>\n",
       "      <td>1071</td>\n",
       "      <td>1071</td>\n",
       "      <td>1071</td>\n",
       "      <td>1071</td>\n",
       "      <td>1071</td>\n",
       "      <td>1071</td>\n",
       "      <td>1071</td>\n",
       "      <td>1071</td>\n",
       "      <td>1071</td>\n",
       "      <td>1071</td>\n",
       "      <td>1071</td>\n",
       "    </tr>\n",
       "  </tbody>\n",
       "</table>\n",
       "</div>"
      ],
      "text/plain": [
       "          age   job  marital  education  balance  housing  loan  contact  \\\n",
       "default                                                                    \n",
       "no       1071  1071     1071       1071     1071     1071  1071     1071   \n",
       "\n",
       "          day  month  duration  campaign  pdays  previous  poutcome  deposit  \n",
       "default                                                                       \n",
       "no       1071   1071      1071      1071   1071      1071      1071     1071  "
      ]
     },
     "execution_count": 26,
     "metadata": {},
     "output_type": "execute_result"
    }
   ],
   "source": [
    "success_data.groupby('default').count()"
   ]
  },
  {
   "cell_type": "markdown",
   "id": "4c9df66b-70a8-4fe7-b0f8-465251fe28c4",
   "metadata": {},
   "source": [
    "- #### Having a credit default is inconclusive, i.e. more data is required to see it's effect correctly, however there are absolutely no people who have both responded positively to marketing campaign and have a credit default."
   ]
  },
  {
   "cell_type": "markdown",
   "id": "ae87f385-afe2-4e82-94e5-3cc4a8c877c1",
   "metadata": {},
   "source": [
    "### 5. Housing, whether person has a house or is on rent"
   ]
  },
  {
   "cell_type": "code",
   "execution_count": 27,
   "id": "cc740459-30a3-42bf-8b55-586206ff5edc",
   "metadata": {},
   "outputs": [],
   "source": [
    "# Calculating Conversion Rates on criteria whether a person is a house-owner or not.\n",
    "housing_conv = ((success_data.groupby('housing').count()['poutcome']\n",
    "                 /\n",
    "                 known_mkt_data.groupby('housing').count()['poutcome']) * 100).sort_values(ascending= False).reset_index()"
   ]
  },
  {
   "cell_type": "code",
   "execution_count": 28,
   "id": "15b1a802-44cb-4f15-b9d9-a94214483448",
   "metadata": {},
   "outputs": [
    {
     "data": {
      "text/html": [
       "<div>\n",
       "<style scoped>\n",
       "    .dataframe tbody tr th:only-of-type {\n",
       "        vertical-align: middle;\n",
       "    }\n",
       "\n",
       "    .dataframe tbody tr th {\n",
       "        vertical-align: top;\n",
       "    }\n",
       "\n",
       "    .dataframe thead th {\n",
       "        text-align: right;\n",
       "    }\n",
       "</style>\n",
       "<table border=\"1\" class=\"dataframe\">\n",
       "  <thead>\n",
       "    <tr style=\"text-align: right;\">\n",
       "      <th></th>\n",
       "      <th>housing</th>\n",
       "      <th>poutcome</th>\n",
       "    </tr>\n",
       "  </thead>\n",
       "  <tbody>\n",
       "    <tr>\n",
       "      <th>0</th>\n",
       "      <td>no</td>\n",
       "      <td>61.466459</td>\n",
       "    </tr>\n",
       "    <tr>\n",
       "      <th>1</th>\n",
       "      <td>yes</td>\n",
       "      <td>27.826942</td>\n",
       "    </tr>\n",
       "  </tbody>\n",
       "</table>\n",
       "</div>"
      ],
      "text/plain": [
       "  housing   poutcome\n",
       "0      no  61.466459\n",
       "1     yes  27.826942"
      ]
     },
     "execution_count": 28,
     "metadata": {},
     "output_type": "execute_result"
    }
   ],
   "source": [
    "housing_conv"
   ]
  },
  {
   "cell_type": "code",
   "execution_count": 29,
   "id": "59729d17-d404-45f4-b567-11529765fdd4",
   "metadata": {},
   "outputs": [
    {
     "data": {
      "image/png": "[encoded data removed]",
      "text/plain": [
       "<Figure size 432x288 with 1 Axes>"
      ]
     },
     "metadata": {
      "needs_background": "light"
     },
     "output_type": "display_data"
    }
   ],
   "source": [
    "plt.bar(housing_conv['housing'],housing_conv['poutcome'],width = 0.4)\n",
    "plt.xlabel('Is person a house owner?')\n",
    "plt.ylabel('Conversion Rate')\n",
    "plt.title('Conversion rate for house-owners vs non-house-owners')\n",
    "plt.show()"
   ]
  },
  {
   "cell_type": "markdown",
   "id": "c3d08229-c0c0-49fe-883d-938e878c0a1b",
   "metadata": {},
   "source": [
    "- #### Not being a house owner has a high positive correlation to conversion rates."
   ]
  },
  {
   "cell_type": "markdown",
   "id": "d109916f-f1ca-4c43-942f-015a0de50b7c",
   "metadata": {},
   "source": [
    "### 6. Loan: If the person has a loan or not"
   ]
  },
  {
   "cell_type": "code",
   "execution_count": 30,
   "id": "b40a45af-91bd-4faf-bed6-7c679809a6c4",
   "metadata": {},
   "outputs": [],
   "source": [
    "# Calculating Conversion Rates on criteria of whether a person has a loan or not\n",
    "loan_conv = ((success_data.groupby('loan').count()['poutcome']\n",
    "              /\n",
    "              known_mkt_data.groupby('loan').count()['poutcome']) * 100 ).sort_values(ascending = False).reset_index()"
   ]
  },
  {
   "cell_type": "code",
   "execution_count": 31,
   "id": "3aed04c5-2da1-4c1f-a4ab-2fe5f0e1d4b6",
   "metadata": {},
   "outputs": [
    {
     "data": {
      "text/html": [
       "<div>\n",
       "<style scoped>\n",
       "    .dataframe tbody tr th:only-of-type {\n",
       "        vertical-align: middle;\n",
       "    }\n",
       "\n",
       "    .dataframe tbody tr th {\n",
       "        vertical-align: top;\n",
       "    }\n",
       "\n",
       "    .dataframe thead th {\n",
       "        text-align: right;\n",
       "    }\n",
       "</style>\n",
       "<table border=\"1\" class=\"dataframe\">\n",
       "  <thead>\n",
       "    <tr style=\"text-align: right;\">\n",
       "      <th></th>\n",
       "      <th>loan</th>\n",
       "      <th>poutcome</th>\n",
       "    </tr>\n",
       "  </thead>\n",
       "  <tbody>\n",
       "    <tr>\n",
       "      <th>0</th>\n",
       "      <td>no</td>\n",
       "      <td>49.038462</td>\n",
       "    </tr>\n",
       "    <tr>\n",
       "      <th>1</th>\n",
       "      <td>yes</td>\n",
       "      <td>23.287671</td>\n",
       "    </tr>\n",
       "  </tbody>\n",
       "</table>\n",
       "</div>"
      ],
      "text/plain": [
       "  loan   poutcome\n",
       "0   no  49.038462\n",
       "1  yes  23.287671"
      ]
     },
     "execution_count": 31,
     "metadata": {},
     "output_type": "execute_result"
    }
   ],
   "source": [
    "loan_conv"
   ]
  },
  {
   "cell_type": "code",
   "execution_count": 32,
   "id": "6411b3c4-eeeb-4570-9e49-3955bbc79a92",
   "metadata": {},
   "outputs": [
    {
     "data": {
      "image/png": "[encoded data removed]",
      "text/plain": [
       "<Figure size 432x288 with 1 Axes>"
      ]
     },
     "metadata": {
      "needs_background": "light"
     },
     "output_type": "display_data"
    }
   ],
   "source": [
    "plt.bar(loan_conv['loan'], loan_conv['poutcome'],width = 0.4)\n",
    "plt.xlabel('Does customer have a loan?')\n",
    "plt.ylabel('Conversion Rate')\n",
    "plt.title('Conversion Rate for people who have a loan vs people who don\\'t')\n",
    "plt.show()"
   ]
  },
  {
   "cell_type": "markdown",
   "id": "9fff82ca-f9a3-4a5d-b79f-6a630675d1a9",
   "metadata": {},
   "source": [
    "- #### People who don't have a loan are not affecting the conversion-rate in a way that is significant, however people who have a loan are doing so negatively."
   ]
  },
  {
   "cell_type": "markdown",
   "id": "5d1eaa90-dd34-4539-b810-d8402896231f",
   "metadata": {},
   "source": [
    "### 7. Mode of contact"
   ]
  },
  {
   "cell_type": "code",
   "execution_count": 33,
   "id": "863668f5-e987-441d-8703-621f4eee2f5d",
   "metadata": {},
   "outputs": [
    {
     "data": {
      "text/html": [
       "<div>\n",
       "<style scoped>\n",
       "    .dataframe tbody tr th:only-of-type {\n",
       "        vertical-align: middle;\n",
       "    }\n",
       "\n",
       "    .dataframe tbody tr th {\n",
       "        vertical-align: top;\n",
       "    }\n",
       "\n",
       "    .dataframe thead th {\n",
       "        text-align: right;\n",
       "    }\n",
       "</style>\n",
       "<table border=\"1\" class=\"dataframe\">\n",
       "  <thead>\n",
       "    <tr style=\"text-align: right;\">\n",
       "      <th></th>\n",
       "      <th>contact</th>\n",
       "      <th>poutcome</th>\n",
       "    </tr>\n",
       "  </thead>\n",
       "  <tbody>\n",
       "    <tr>\n",
       "      <th>0</th>\n",
       "      <td>telephone</td>\n",
       "      <td>51.829268</td>\n",
       "    </tr>\n",
       "    <tr>\n",
       "      <th>1</th>\n",
       "      <td>unknown</td>\n",
       "      <td>50.000000</td>\n",
       "    </tr>\n",
       "    <tr>\n",
       "      <th>2</th>\n",
       "      <td>cellular</td>\n",
       "      <td>46.161093</td>\n",
       "    </tr>\n",
       "  </tbody>\n",
       "</table>\n",
       "</div>"
      ],
      "text/plain": [
       "     contact   poutcome\n",
       "0  telephone  51.829268\n",
       "1    unknown  50.000000\n",
       "2   cellular  46.161093"
      ]
     },
     "execution_count": 33,
     "metadata": {},
     "output_type": "execute_result"
    }
   ],
   "source": [
    "# Calculating conversion rates for different mode of contacts.\n",
    "contact_conv = ((success_data.groupby('contact').count()['poutcome']\n",
    "                 /\n",
    "                 known_mkt_data.groupby('contact').count()['poutcome']) * 100 ).sort_values(ascending = False).reset_index()\n",
    "contact_conv"
   ]
  },
  {
   "cell_type": "code",
   "execution_count": 34,
   "id": "f0520739-1b87-467c-8810-6384eabe65b7",
   "metadata": {},
   "outputs": [
    {
     "data": {
      "image/png": "[encoded data removed]",
      "text/plain": [
       "<Figure size 432x288 with 1 Axes>"
      ]
     },
     "metadata": {
      "needs_background": "light"
     },
     "output_type": "display_data"
    }
   ],
   "source": [
    "plt.bar(contact_conv['contact'],contact_conv['poutcome'],width=0.4)\n",
    "plt.xlabel('Mode of contact')\n",
    "plt.ylabel('Conversion Rate')\n",
    "plt.title('Conversion rate affected by mode of contact')\n",
    "plt.show()"
   ]
  },
  {
   "cell_type": "markdown",
   "id": "304e8712-3af8-488e-b36b-a548a4deb78a",
   "metadata": {},
   "source": [
    "- #### Despite there being an unknown value mode of contact shows no statistical value."
   ]
  },
  {
   "cell_type": "markdown",
   "id": "2ced940d-6fab-4818-ad0a-4d4dd4262ed1",
   "metadata": {},
   "source": [
    "### 8. Time of year/Season/Month"
   ]
  },
  {
   "cell_type": "code",
   "execution_count": 35,
   "id": "43dc5e06-264c-4c3d-88c3-7bc934d7b3c3",
   "metadata": {},
   "outputs": [
    {
     "data": {
      "text/plain": [
       "0     dec\n",
       "1     sep\n",
       "2     jun\n",
       "3     jul\n",
       "4     mar\n",
       "5     aug\n",
       "6     oct\n",
       "7     jan\n",
       "8     feb\n",
       "9     nov\n",
       "10    apr\n",
       "11    may\n",
       "Name: month, dtype: object"
      ]
     },
     "execution_count": 35,
     "metadata": {},
     "output_type": "execute_result"
    }
   ],
   "source": [
    "# Calculating conversion rates for different months\n",
    "month_conv = ((success_data.groupby('month').count()['poutcome']\n",
    "               /\n",
    "               known_mkt_data.groupby('month').count()['poutcome']) * 100).sort_values(ascending = False).reset_index()\n",
    "month_conv['month']"
   ]
  },
  {
   "cell_type": "code",
   "execution_count": 36,
   "id": "20196ba3-5241-4bab-9d37-fa6af4875922",
   "metadata": {},
   "outputs": [
    {
     "data": {
      "image/png": "[encoded data removed]",
      "text/plain": [
       "<Figure size 432x288 with 1 Axes>"
      ]
     },
     "metadata": {
      "needs_background": "light"
     },
     "output_type": "display_data"
    }
   ],
   "source": [
    "plt.barh(month_conv['month'],month_conv['poutcome'], height = 0.4)\n",
    "plt.ylabel('Month')\n",
    "plt.xlabel('Conversion Rate')\n",
    "plt.title('Conversion rates during months')\n",
    "plt.show()"
   ]
  },
  {
   "cell_type": "markdown",
   "id": "d41bf02e-86e5-4ed7-bd12-b33cefc87239",
   "metadata": {},
   "source": [
    "- #### Best time to contact for campaign is during holiday season."
   ]
  },
  {
   "cell_type": "markdown",
   "id": "1e2218e2-bd63-4699-82f3-026981a20fc7",
   "metadata": {},
   "source": [
    "# Summary:\n",
    " - ### Insights:\n",
    "     - #### In relation to job it was found that there are certain jobs types that trend the conversion rate above the overall conversion rate.\n",
    "     - #### In relation to housing and loans:\n",
    "         - #### People who do not have a house tend to respond positively.\n",
    "         - #### People who have an ongoing loan tend to respond negatively.\n",
    "     - #### In relation to Defaulters:\n",
    "         - #### Inconclusive\n",
    "     - #### Marital Status, Education, and Mode of contact are not signifact enough to affect the target audience.\n",
    "     - #### Best time to contact people is the Holiday Season\n",
    " - ### Recommendations for maximizing conversion rates:\n",
    "     - #### Prioritize contacting people who are from these job types:\n",
    "         - retired\n",
    "         - student\n",
    "         - unemployed\n",
    "         - housemaid\n",
    "         - self-employed\n",
    "         - management\n",
    "     - #### Prioritize contacting people who do not own a house\n",
    "     - #### Do not contact people who have a loan\n",
    "     - #### Make the most contacts in Holiday Seasons\n",
    "## Along with recommendations I will create a sub-set of original data for our marketing team to use.\n",
    "     "
   ]
  },
  {
   "cell_type": "code",
   "execution_count": 37,
   "id": "7b712ec1-a06d-447f-af8a-1c60f3c19f8b",
   "metadata": {},
   "outputs": [],
   "source": [
    "data_use_mkt = mkt_data[~mkt_data['poutcome'].isin(['success','failure'])]"
   ]
  },
  {
   "cell_type": "code",
   "execution_count": 38,
   "id": "9c207f9e-440d-4d51-91f5-8280d1e4bc7c",
   "metadata": {},
   "outputs": [],
   "source": [
    "data_use_mkt = data_use_mkt[(data_use_mkt['job'].isin(job_targets['job'])) | (data_use_mkt['housing'] == 'no') & (data_use_mkt['loan'] == 'yes')]"
   ]
  },
  {
   "cell_type": "code",
   "execution_count": 39,
   "id": "bfa0db06-0ea2-493d-877a-0f1784b9370a",
   "metadata": {},
   "outputs": [
    {
     "data": {
      "text/html": [
       "<div>\n",
       "<style scoped>\n",
       "    .dataframe tbody tr th:only-of-type {\n",
       "        vertical-align: middle;\n",
       "    }\n",
       "\n",
       "    .dataframe tbody tr th {\n",
       "        vertical-align: top;\n",
       "    }\n",
       "\n",
       "    .dataframe thead th {\n",
       "        text-align: right;\n",
       "    }\n",
       "</style>\n",
       "<table border=\"1\" class=\"dataframe\">\n",
       "  <thead>\n",
       "    <tr style=\"text-align: right;\">\n",
       "      <th></th>\n",
       "      <th>age</th>\n",
       "      <th>job</th>\n",
       "      <th>marital</th>\n",
       "      <th>education</th>\n",
       "      <th>default</th>\n",
       "      <th>balance</th>\n",
       "      <th>housing</th>\n",
       "      <th>loan</th>\n",
       "      <th>contact</th>\n",
       "      <th>day</th>\n",
       "      <th>month</th>\n",
       "      <th>duration</th>\n",
       "      <th>campaign</th>\n",
       "      <th>pdays</th>\n",
       "      <th>previous</th>\n",
       "      <th>poutcome</th>\n",
       "      <th>deposit</th>\n",
       "    </tr>\n",
       "  </thead>\n",
       "  <tbody>\n",
       "    <tr>\n",
       "      <th>5</th>\n",
       "      <td>42</td>\n",
       "      <td>management</td>\n",
       "      <td>single</td>\n",
       "      <td>tertiary</td>\n",
       "      <td>no</td>\n",
       "      <td>0</td>\n",
       "      <td>yes</td>\n",
       "      <td>yes</td>\n",
       "      <td>unknown</td>\n",
       "      <td>5</td>\n",
       "      <td>may</td>\n",
       "      <td>562</td>\n",
       "      <td>2</td>\n",
       "      <td>-1</td>\n",
       "      <td>0</td>\n",
       "      <td>unknown</td>\n",
       "      <td>yes</td>\n",
       "    </tr>\n",
       "    <tr>\n",
       "      <th>6</th>\n",
       "      <td>56</td>\n",
       "      <td>management</td>\n",
       "      <td>married</td>\n",
       "      <td>tertiary</td>\n",
       "      <td>no</td>\n",
       "      <td>830</td>\n",
       "      <td>yes</td>\n",
       "      <td>yes</td>\n",
       "      <td>unknown</td>\n",
       "      <td>6</td>\n",
       "      <td>may</td>\n",
       "      <td>1201</td>\n",
       "      <td>1</td>\n",
       "      <td>-1</td>\n",
       "      <td>0</td>\n",
       "      <td>unknown</td>\n",
       "      <td>yes</td>\n",
       "    </tr>\n",
       "    <tr>\n",
       "      <th>7</th>\n",
       "      <td>60</td>\n",
       "      <td>retired</td>\n",
       "      <td>divorced</td>\n",
       "      <td>secondary</td>\n",
       "      <td>no</td>\n",
       "      <td>545</td>\n",
       "      <td>yes</td>\n",
       "      <td>no</td>\n",
       "      <td>unknown</td>\n",
       "      <td>6</td>\n",
       "      <td>may</td>\n",
       "      <td>1030</td>\n",
       "      <td>1</td>\n",
       "      <td>-1</td>\n",
       "      <td>0</td>\n",
       "      <td>unknown</td>\n",
       "      <td>yes</td>\n",
       "    </tr>\n",
       "    <tr>\n",
       "      <th>12</th>\n",
       "      <td>29</td>\n",
       "      <td>management</td>\n",
       "      <td>married</td>\n",
       "      <td>tertiary</td>\n",
       "      <td>no</td>\n",
       "      <td>199</td>\n",
       "      <td>yes</td>\n",
       "      <td>yes</td>\n",
       "      <td>unknown</td>\n",
       "      <td>7</td>\n",
       "      <td>may</td>\n",
       "      <td>1689</td>\n",
       "      <td>4</td>\n",
       "      <td>-1</td>\n",
       "      <td>0</td>\n",
       "      <td>unknown</td>\n",
       "      <td>yes</td>\n",
       "    </tr>\n",
       "    <tr>\n",
       "      <th>15</th>\n",
       "      <td>35</td>\n",
       "      <td>management</td>\n",
       "      <td>divorced</td>\n",
       "      <td>tertiary</td>\n",
       "      <td>no</td>\n",
       "      <td>3837</td>\n",
       "      <td>yes</td>\n",
       "      <td>no</td>\n",
       "      <td>unknown</td>\n",
       "      <td>8</td>\n",
       "      <td>may</td>\n",
       "      <td>1084</td>\n",
       "      <td>1</td>\n",
       "      <td>-1</td>\n",
       "      <td>0</td>\n",
       "      <td>unknown</td>\n",
       "      <td>yes</td>\n",
       "    </tr>\n",
       "    <tr>\n",
       "      <th>...</th>\n",
       "      <td>...</td>\n",
       "      <td>...</td>\n",
       "      <td>...</td>\n",
       "      <td>...</td>\n",
       "      <td>...</td>\n",
       "      <td>...</td>\n",
       "      <td>...</td>\n",
       "      <td>...</td>\n",
       "      <td>...</td>\n",
       "      <td>...</td>\n",
       "      <td>...</td>\n",
       "      <td>...</td>\n",
       "      <td>...</td>\n",
       "      <td>...</td>\n",
       "      <td>...</td>\n",
       "      <td>...</td>\n",
       "      <td>...</td>\n",
       "    </tr>\n",
       "    <tr>\n",
       "      <th>11146</th>\n",
       "      <td>30</td>\n",
       "      <td>admin.</td>\n",
       "      <td>married</td>\n",
       "      <td>secondary</td>\n",
       "      <td>yes</td>\n",
       "      <td>23</td>\n",
       "      <td>no</td>\n",
       "      <td>yes</td>\n",
       "      <td>cellular</td>\n",
       "      <td>4</td>\n",
       "      <td>feb</td>\n",
       "      <td>149</td>\n",
       "      <td>2</td>\n",
       "      <td>-1</td>\n",
       "      <td>0</td>\n",
       "      <td>unknown</td>\n",
       "      <td>no</td>\n",
       "    </tr>\n",
       "    <tr>\n",
       "      <th>11147</th>\n",
       "      <td>44</td>\n",
       "      <td>unemployed</td>\n",
       "      <td>married</td>\n",
       "      <td>secondary</td>\n",
       "      <td>no</td>\n",
       "      <td>0</td>\n",
       "      <td>no</td>\n",
       "      <td>no</td>\n",
       "      <td>cellular</td>\n",
       "      <td>21</td>\n",
       "      <td>nov</td>\n",
       "      <td>175</td>\n",
       "      <td>4</td>\n",
       "      <td>-1</td>\n",
       "      <td>0</td>\n",
       "      <td>unknown</td>\n",
       "      <td>no</td>\n",
       "    </tr>\n",
       "    <tr>\n",
       "      <th>11150</th>\n",
       "      <td>34</td>\n",
       "      <td>management</td>\n",
       "      <td>married</td>\n",
       "      <td>secondary</td>\n",
       "      <td>no</td>\n",
       "      <td>355</td>\n",
       "      <td>no</td>\n",
       "      <td>no</td>\n",
       "      <td>cellular</td>\n",
       "      <td>21</td>\n",
       "      <td>aug</td>\n",
       "      <td>314</td>\n",
       "      <td>3</td>\n",
       "      <td>-1</td>\n",
       "      <td>0</td>\n",
       "      <td>unknown</td>\n",
       "      <td>no</td>\n",
       "    </tr>\n",
       "    <tr>\n",
       "      <th>11151</th>\n",
       "      <td>40</td>\n",
       "      <td>management</td>\n",
       "      <td>married</td>\n",
       "      <td>tertiary</td>\n",
       "      <td>no</td>\n",
       "      <td>917</td>\n",
       "      <td>yes</td>\n",
       "      <td>no</td>\n",
       "      <td>unknown</td>\n",
       "      <td>20</td>\n",
       "      <td>may</td>\n",
       "      <td>292</td>\n",
       "      <td>1</td>\n",
       "      <td>-1</td>\n",
       "      <td>0</td>\n",
       "      <td>unknown</td>\n",
       "      <td>no</td>\n",
       "    </tr>\n",
       "    <tr>\n",
       "      <th>11152</th>\n",
       "      <td>34</td>\n",
       "      <td>housemaid</td>\n",
       "      <td>married</td>\n",
       "      <td>secondary</td>\n",
       "      <td>no</td>\n",
       "      <td>390</td>\n",
       "      <td>yes</td>\n",
       "      <td>no</td>\n",
       "      <td>cellular</td>\n",
       "      <td>15</td>\n",
       "      <td>jul</td>\n",
       "      <td>659</td>\n",
       "      <td>3</td>\n",
       "      <td>-1</td>\n",
       "      <td>0</td>\n",
       "      <td>unknown</td>\n",
       "      <td>no</td>\n",
       "    </tr>\n",
       "  </tbody>\n",
       "</table>\n",
       "<p>4060 rows × 17 columns</p>\n",
       "</div>"
      ],
      "text/plain": [
       "       age         job   marital  education default  balance housing loan  \\\n",
       "5       42  management    single   tertiary      no        0     yes  yes   \n",
       "6       56  management   married   tertiary      no      830     yes  yes   \n",
       "7       60     retired  divorced  secondary      no      545     yes   no   \n",
       "12      29  management   married   tertiary      no      199     yes  yes   \n",
       "15      35  management  divorced   tertiary      no     3837     yes   no   \n",
       "...    ...         ...       ...        ...     ...      ...     ...  ...   \n",
       "11146   30      admin.   married  secondary     yes       23      no  yes   \n",
       "11147   44  unemployed   married  secondary      no        0      no   no   \n",
       "11150   34  management   married  secondary      no      355      no   no   \n",
       "11151   40  management   married   tertiary      no      917     yes   no   \n",
       "11152   34   housemaid   married  secondary      no      390     yes   no   \n",
       "\n",
       "        contact  day month  duration  campaign  pdays  previous poutcome  \\\n",
       "5       unknown    5   may       562         2     -1         0  unknown   \n",
       "6       unknown    6   may      1201         1     -1         0  unknown   \n",
       "7       unknown    6   may      1030         1     -1         0  unknown   \n",
       "12      unknown    7   may      1689         4     -1         0  unknown   \n",
       "15      unknown    8   may      1084         1     -1         0  unknown   \n",
       "...         ...  ...   ...       ...       ...    ...       ...      ...   \n",
       "11146  cellular    4   feb       149         2     -1         0  unknown   \n",
       "11147  cellular   21   nov       175         4     -1         0  unknown   \n",
       "11150  cellular   21   aug       314         3     -1         0  unknown   \n",
       "11151   unknown   20   may       292         1     -1         0  unknown   \n",
       "11152  cellular   15   jul       659         3     -1         0  unknown   \n",
       "\n",
       "      deposit  \n",
       "5         yes  \n",
       "6         yes  \n",
       "7         yes  \n",
       "12        yes  \n",
       "15        yes  \n",
       "...       ...  \n",
       "11146      no  \n",
       "11147      no  \n",
       "11150      no  \n",
       "11151      no  \n",
       "11152      no  \n",
       "\n",
       "[4060 rows x 17 columns]"
      ]
     },
     "execution_count": 39,
     "metadata": {},
     "output_type": "execute_result"
    }
   ],
   "source": [
    "data_use_mkt"
   ]
  },
  {
   "cell_type": "code",
   "execution_count": 40,
   "id": "957c1ab5-192c-4fa8-8d66-dfe46782dc32",
   "metadata": {},
   "outputs": [],
   "source": [
    "# Performing a test check on known data to see if insights increase the conversion rate:\n",
    "test_data = known_mkt_data[(known_mkt_data['job'].isin(job_targets['job'])) | (known_mkt_data['housing'] == 'no') & (known_mkt_data['loan'] == 'no')]"
   ]
  },
  {
   "cell_type": "code",
   "execution_count": 41,
   "id": "8ff92171-d901-4116-8594-762e006609d8",
   "metadata": {},
   "outputs": [],
   "source": [
    "rate_compare = test_data.groupby('poutcome').count()['deposit']/len(test_data) * 100"
   ]
  },
  {
   "cell_type": "code",
   "execution_count": 42,
   "id": "4168d9e0-4815-4b71-8598-c3e7c0b1e2cd",
   "metadata": {},
   "outputs": [],
   "source": [
    "rate_compare = rate_compare.reset_index()"
   ]
  },
  {
   "cell_type": "code",
   "execution_count": 43,
   "id": "c02ce006-f17a-4761-a808-5f16e96fedbb",
   "metadata": {},
   "outputs": [],
   "source": [
    "rate_compare.rename(columns = {'deposit':'Conv_rates_post_analysis'}, inplace = True)"
   ]
  },
  {
   "cell_type": "code",
   "execution_count": 44,
   "id": "b8ca8416-57cd-4f7e-9edb-04aecd5d3dec",
   "metadata": {},
   "outputs": [],
   "source": [
    "rate_compare['Conv_rates_before_analysis'] = (known_mkt_data.groupby('poutcome').count()['deposit']/len(known_mkt_data) * 100).reset_index()['deposit']"
   ]
  },
  {
   "cell_type": "code",
   "execution_count": 45,
   "id": "be697ef0-c123-4d6d-ad72-ae099530a816",
   "metadata": {},
   "outputs": [
    {
     "data": {
      "text/html": [
       "<div>\n",
       "<style scoped>\n",
       "    .dataframe tbody tr th:only-of-type {\n",
       "        vertical-align: middle;\n",
       "    }\n",
       "\n",
       "    .dataframe tbody tr th {\n",
       "        vertical-align: top;\n",
       "    }\n",
       "\n",
       "    .dataframe thead th {\n",
       "        text-align: right;\n",
       "    }\n",
       "</style>\n",
       "<table border=\"1\" class=\"dataframe\">\n",
       "  <thead>\n",
       "    <tr style=\"text-align: right;\">\n",
       "      <th></th>\n",
       "      <th>poutcome</th>\n",
       "      <th>Conv_rates_post_analysis</th>\n",
       "      <th>Conv_rates_before_analysis</th>\n",
       "    </tr>\n",
       "  </thead>\n",
       "  <tbody>\n",
       "    <tr>\n",
       "      <th>0</th>\n",
       "      <td>failure</td>\n",
       "      <td>43.734015</td>\n",
       "      <td>53.414528</td>\n",
       "    </tr>\n",
       "    <tr>\n",
       "      <th>1</th>\n",
       "      <td>success</td>\n",
       "      <td>56.265985</td>\n",
       "      <td>46.585472</td>\n",
       "    </tr>\n",
       "  </tbody>\n",
       "</table>\n",
       "</div>"
      ],
      "text/plain": [
       "  poutcome  Conv_rates_post_analysis  Conv_rates_before_analysis\n",
       "0  failure                 43.734015                   53.414528\n",
       "1  success                 56.265985                   46.585472"
      ]
     },
     "execution_count": 45,
     "metadata": {},
     "output_type": "execute_result"
    }
   ],
   "source": [
    "rate_compare"
   ]
  },
  {
   "cell_type": "code",
   "execution_count": 46,
   "id": "dbd58bab-19fa-4dea-bc1c-204b27014cdf",
   "metadata": {},
   "outputs": [
    {
     "data": {
      "image/png": "[encoded data removed]",
      "text/plain": [
       "<Figure size 432x288 with 1 Axes>"
      ]
     },
     "metadata": {
      "needs_background": "light"
     },
     "output_type": "display_data"
    }
   ],
   "source": [
    "plt.bar(rate_compare['poutcome'], height = rate_compare['Conv_rates_post_analysis'], width = 0.2, color = 'lime', edgecolor = 'black', align = 'edge')\n",
    "plt.bar(rate_compare['poutcome'], height = rate_compare['Conv_rates_before_analysis'], width = -0.2, color = 'orangered', edgecolor = 'black', align='edge')\n",
    "plt.xlabel('classification')\n",
    "plt.ylabel('rates')\n",
    "plt.title('Original Conversion Rates vs projected conversion rates') \n",
    "plt.legend(['Projection','Original'])\n",
    "plt.show()"
   ]
  },
  {
   "cell_type": "markdown",
   "id": "8e6f8800",
   "metadata": {},
   "source": [
    "- #### While the Original Conversion rate was around 46%, the projected conversion rate is 56 % and as a result marketing campaign can go a lot smoother"
   ]
  }
 ],
 "metadata": {
  "kernelspec": {
   "display_name": "Python 3 (ipykernel)",
   "language": "python",
   "name": "python3"
  },
  "language_info": {
   "codemirror_mode": {
    "name": "ipython",
    "version": 3
   },
   "file_extension": ".py",
   "mimetype": "text/x-python",
   "name": "python",
   "nbconvert_exporter": "python",
   "pygments_lexer": "ipython3",
   "version": "3.9.7"
  }
 },
 "nbformat": 4,
 "nbformat_minor": 5
}
